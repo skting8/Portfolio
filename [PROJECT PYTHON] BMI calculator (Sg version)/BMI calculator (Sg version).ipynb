{
 "cells": [
  {
   "cell_type": "code",
   "execution_count": 1,
   "id": "0cc7e900",
   "metadata": {},
   "outputs": [
    {
     "name": "stdout",
     "output_type": "stream",
     "text": [
      "Please enter your weight (kg) >>100\n",
      "Please enter your height (m) >>1.8\n",
      "Your BMI is : 30.86\n",
      "Obese\n"
     ]
    }
   ],
   "source": [
    "# BMI Chart\n",
    "# Below 18.5 = Underweight\n",
    "# 18.5 - 25 = Normal\n",
    "# 25 - 30 = OverWeight\n",
    "# 31 - 35 = Obese\n",
    "# 35 - 40 = Obese II\n",
    "# Above 40 = Obese III\n",
    "\n",
    "# detect invalid entry 1st - Weight or Height <=0\n",
    "# Pass in Weight and Height, do calculation here\n",
    "\n",
    "def BMI_calculator(Weight,Height):\n",
    "    if Weight > 1 and Height > 0:\n",
    "        BMI = round((Weight) / (Height * Height),2)\n",
    "    print('Your BMI is :' , str(BMI))\n",
    "    if BMI < 18.5 :\n",
    "        print(\"Under Weight!!!\")\n",
    "    elif BMI >= 18.5 and BMI < 25:\n",
    "        print(\"Weight ok\")\n",
    "    elif BMI >= 25 and BMI < 30:\n",
    "        print(\"Overweight\")\n",
    "    elif BMI >= 30 and BMI < 35:\n",
    "        print(\"Obese\")\n",
    "    elif BMI >= 35 and BMI < 40:\n",
    "        print(\"Obese II\")\n",
    "    elif BMI >=40:\n",
    "        print(\"Obese III\")\n",
    "    else:\n",
    "        print(\"Invalid Entry\")\n",
    "\n",
    "# execute here\n",
    "\n",
    "BMI_calculator(float(input(\"Please enter your weight (kg) >>\")),float(input(\"Please enter your height (m) >>\")))\n"
   ]
  },
  {
   "cell_type": "code",
   "execution_count": 2,
   "id": "ab55c365",
   "metadata": {},
   "outputs": [
    {
     "name": "stdout",
     "output_type": "stream",
     "text": [
      "Please enter your weight (kg) >>100\n",
      "Please enter your height (m) >>1.8\n",
      "Your BMI is : 30.86\n",
      "Obese\n"
     ]
    }
   ],
   "source": [
    "# Get user input ( Weight, Height )\n",
    "Weight = float(input(\"Please enter your weight (kg) >>\"))\n",
    "Height = float(input(\"Please enter your height (m) >>\"))\n",
    "\n",
    "# BMI Chart\n",
    "# Below 18.5 = Underweight\n",
    "# 18.5 - 25 = Normal\n",
    "# 25 - 30 = OverWeight\n",
    "# 31 - 35 = Obese\n",
    "# 35 - 40 = Obese II\n",
    "# Above 40 = Obese III\n",
    "\n",
    "# detect invalid entry 1st - Weight or Height <=0\n",
    "\n",
    "if Weight > 1 and Height > 0:\n",
    "    BMI = round((Weight) / (Height * Height),2)\n",
    "    print('Your BMI is :' , str(BMI))\n",
    "    if BMI < 18.5 :\n",
    "        print(\"Under Weight!!!\")\n",
    "    elif BMI >= 18.5 and BMI < 25:\n",
    "        print(\"Weight ok\")\n",
    "    elif BMI >= 25 and BMI < 30:\n",
    "        print(\"Overweight\")\n",
    "    elif BMI >= 30 and BMI < 35:\n",
    "        print(\"Obese\")\n",
    "    elif BMI >= 35 and BMI < 40:\n",
    "        print(\"Obese II\")\n",
    "    elif BMI >=40:\n",
    "        print(\"Obese III\")\n",
    "        \n",
    "else:\n",
    "    print(\"Invalid Entry\")"
   ]
  }
 ],
 "metadata": {
  "kernelspec": {
   "display_name": "Python 3 (ipykernel)",
   "language": "python",
   "name": "python3"
  },
  "language_info": {
   "codemirror_mode": {
    "name": "ipython",
    "version": 3
   },
   "file_extension": ".py",
   "mimetype": "text/x-python",
   "name": "python",
   "nbconvert_exporter": "python",
   "pygments_lexer": "ipython3",
   "version": "3.10.9"
  }
 },
 "nbformat": 4,
 "nbformat_minor": 5
}
